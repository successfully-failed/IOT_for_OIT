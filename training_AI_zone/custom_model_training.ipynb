{
 "cells": [
  {
   "cell_type": "markdown",
   "metadata": {},
   "source": [
    "# Install dependencies"
   ]
  },
  {
   "cell_type": "code",
   "execution_count": null,
   "metadata": {},
   "outputs": [],
   "source": [
    "!pip install -r requirements.txt"
   ]
  },
  {
   "cell_type": "markdown",
   "metadata": {},
   "source": [
    "# Import dependencies"
   ]
  },
  {
   "cell_type": "code",
   "execution_count": 1,
   "metadata": {},
   "outputs": [
    {
     "name": "stderr",
     "output_type": "stream",
     "text": [
      "2022-11-19 14:43:44.599463: I tensorflow/core/platform/cpu_feature_guard.cc:193] This TensorFlow binary is optimized with oneAPI Deep Neural Network Library (oneDNN) to use the following CPU instructions in performance-critical operations:  AVX2 FMA\n",
      "To enable them in other operations, rebuild TensorFlow with the appropriate compiler flags.\n",
      "2022-11-19 14:43:44.909123: E tensorflow/stream_executor/cuda/cuda_blas.cc:2981] Unable to register cuBLAS factory: Attempting to register factory for plugin cuBLAS when one has already been registered\n",
      "2022-11-19 14:43:46.524058: W tensorflow/stream_executor/platform/default/dso_loader.cc:64] Could not load dynamic library 'libnvinfer.so.7'; dlerror: libnvinfer.so.7: cannot open shared object file: No such file or directory\n",
      "2022-11-19 14:43:46.524215: W tensorflow/stream_executor/platform/default/dso_loader.cc:64] Could not load dynamic library 'libnvinfer_plugin.so.7'; dlerror: libnvinfer_plugin.so.7: cannot open shared object file: No such file or directory\n",
      "2022-11-19 14:43:46.524234: W tensorflow/compiler/tf2tensorrt/utils/py_utils.cc:38] TF-TRT Warning: Cannot dlopen some TensorRT libraries. If you would like to use Nvidia GPU with TensorRT, please make sure the missing libraries mentioned above are installed properly.\n"
     ]
    }
   ],
   "source": [
    "from tensorflow.keras.layers import Conv2D, MaxPooling2D, Dense, Flatten, Dropout\n",
    "from tensorflow.keras.metrics import Precision, Recall, BinaryAccuracy\n",
    "from tensorflow.keras.models import load_model\n",
    "from tensorflow.keras.models import Sequential\n",
    "from matplotlib import pyplot as plt\n",
    "import tensorflow as tf\n",
    "import numpy as np\n",
    "import imghdr\n",
    "import cv2\n",
    "import os"
   ]
  },
  {
   "cell_type": "markdown",
   "metadata": {},
   "source": [
    "# GPU setup "
   ]
  },
  {
   "cell_type": "code",
   "execution_count": null,
   "metadata": {},
   "outputs": [],
   "source": [
    "gpus = tf.config.experimental.list_physical_devices('GPU')\n",
    "for gpu in gpus: \n",
    "    tf.config.experimental.set_memory_growth(gpu, True)"
   ]
  },
  {
   "cell_type": "markdown",
   "metadata": {},
   "source": [
    "# Load data and split it for training/validation/test data"
   ]
  },
  {
   "cell_type": "code",
   "execution_count": 3,
   "metadata": {},
   "outputs": [
    {
     "name": "stdout",
     "output_type": "stream",
     "text": [
      "Found 146 files belonging to 2 classes.\n"
     ]
    },
    {
     "name": "stderr",
     "output_type": "stream",
     "text": [
      "2022-11-19 14:44:39.098680: W tensorflow/stream_executor/platform/default/dso_loader.cc:64] Could not load dynamic library 'libcuda.so.1'; dlerror: libcuda.so.1: cannot open shared object file: No such file or directory; LD_LIBRARY_PATH: /home/szymon/anaconda3/envs/safetysystem/lib/python3.9/site-packages/cv2/../../lib64:\n",
      "2022-11-19 14:44:39.098718: W tensorflow/stream_executor/cuda/cuda_driver.cc:263] failed call to cuInit: UNKNOWN ERROR (303)\n",
      "2022-11-19 14:44:39.098745: I tensorflow/stream_executor/cuda/cuda_diagnostics.cc:156] kernel driver does not appear to be running on this host (szymon-G3-3590): /proc/driver/nvidia/version does not exist\n",
      "2022-11-19 14:44:39.099145: I tensorflow/core/platform/cpu_feature_guard.cc:193] This TensorFlow binary is optimized with oneAPI Deep Neural Network Library (oneDNN) to use the following CPU instructions in performance-critical operations:  AVX2 FMA\n",
      "To enable them in other operations, rebuild TensorFlow with the appropriate compiler flags.\n"
     ]
    },
    {
     "data": {
      "text/plain": [
       "(array([[[[0.99215686, 0.87058824, 0.7921569 ],\n",
       "          [0.99215686, 0.87058824, 0.7921569 ],\n",
       "          [0.99215686, 0.87058824, 0.7921569 ],\n",
       "          ...,\n",
       "          [0.972549  , 0.84705883, 0.75686276],\n",
       "          [0.97140014, 0.84590995, 0.7557138 ],\n",
       "          [0.96862745, 0.84313726, 0.7529412 ]],\n",
       " \n",
       "         [[0.99215686, 0.87058824, 0.7921569 ],\n",
       "          [0.99215686, 0.87058824, 0.7921569 ],\n",
       "          [0.99215686, 0.87058824, 0.7921569 ],\n",
       "          ...,\n",
       "          [0.972549  , 0.84705883, 0.75686276],\n",
       "          [0.97247493, 0.84698474, 0.7567887 ],\n",
       "          [0.97229624, 0.84680605, 0.75661   ]],\n",
       " \n",
       "         [[0.99215686, 0.87058824, 0.7921569 ],\n",
       "          [0.99215686, 0.87058824, 0.7921569 ],\n",
       "          [0.99215686, 0.87058824, 0.7921569 ],\n",
       "          ...,\n",
       "          [0.9743402 , 0.84885   , 0.75865394],\n",
       "          [0.972549  , 0.84705883, 0.75686276],\n",
       "          [0.972549  , 0.84705883, 0.75686276]],\n",
       " \n",
       "         ...,\n",
       " \n",
       "         [[0.94509804, 0.7882353 , 0.6862745 ],\n",
       "          [0.94232535, 0.7854626 , 0.68350184],\n",
       "          [0.9411765 , 0.78431374, 0.68235296],\n",
       "          ...,\n",
       "          [0.9213531 , 0.7664971 , 0.6585161 ],\n",
       "          [0.92259413, 0.7657314 , 0.6637706 ],\n",
       "          [0.9250689 , 0.7682062 , 0.6662454 ]],\n",
       " \n",
       "         [[0.94509804, 0.7882353 , 0.6862745 ],\n",
       "          [0.94232535, 0.7854626 , 0.68350184],\n",
       "          [0.9411765 , 0.78431374, 0.68235296],\n",
       "          ...,\n",
       "          [0.91930914, 0.7644531 , 0.65647215],\n",
       "          [0.92131585, 0.7644531 , 0.66249233],\n",
       "          [0.92131585, 0.7644531 , 0.66249233]],\n",
       " \n",
       "         [[0.94509804, 0.7882353 , 0.6862745 ],\n",
       "          [0.94232535, 0.7854626 , 0.68350184],\n",
       "          [0.9411765 , 0.78431374, 0.68235296],\n",
       "          ...,\n",
       "          [0.9156403 , 0.7607843 , 0.6528033 ],\n",
       "          [0.91764706, 0.7607843 , 0.65882355],\n",
       "          [0.91764706, 0.7607843 , 0.65882355]]],\n",
       " \n",
       " \n",
       "        [[[0.9529412 , 0.84705883, 0.7647059 ],\n",
       "          [0.95686275, 0.85490197, 0.7647059 ],\n",
       "          [0.9647059 , 0.86260724, 0.7862056 ],\n",
       "          ...,\n",
       "          [0.6509804 , 0.7176471 , 0.7490196 ],\n",
       "          [0.6543264 , 0.72099304, 0.7523656 ],\n",
       "          [0.658504  , 0.7251707 , 0.7565432 ]],\n",
       " \n",
       "         [[0.9529412 , 0.84705883, 0.7647059 ],\n",
       "          [0.95686275, 0.8509804 , 0.76862746],\n",
       "          [0.96484375, 0.86085325, 0.7941866 ],\n",
       "          ...,\n",
       "          [0.6509804 , 0.7176471 , 0.7490196 ],\n",
       "          [0.654902  , 0.72156864, 0.7529412 ],\n",
       "          [0.654902  , 0.72156864, 0.7529412 ]],\n",
       " \n",
       "         [[0.9529412 , 0.84313726, 0.7607843 ],\n",
       "          [0.9607843 , 0.85490197, 0.78039217],\n",
       "          [0.95862556, 0.8666755 , 0.7862144 ],\n",
       "          ...,\n",
       "          [0.65882355, 0.7137255 , 0.7490196 ],\n",
       "          [0.65898055, 0.7138825 , 0.7491766 ],\n",
       "          [0.65857077, 0.7252374 , 0.75661   ]],\n",
       " \n",
       "         ...,\n",
       " \n",
       "         [[0.7290058 , 0.48586857, 0.40351564],\n",
       "          [0.73750764, 0.4943704 , 0.41201746],\n",
       "          [0.7391538 , 0.49601656, 0.41366363],\n",
       "          ...,\n",
       "          [0.78039217, 0.80784315, 0.83137256],\n",
       "          [0.77525276, 0.8105469 , 0.8301547 ],\n",
       "          [0.77254903, 0.80784315, 0.827451  ]],\n",
       " \n",
       "         [[0.7162301 , 0.47309282, 0.3907399 ],\n",
       "          [0.72921264, 0.48607537, 0.40372244],\n",
       "          [0.72216415, 0.47335133, 0.39289024],\n",
       "          ...,\n",
       "          [0.78039217, 0.80784315, 0.83137256],\n",
       "          [0.77254903, 0.80784315, 0.827451  ],\n",
       "          [0.77254903, 0.80784315, 0.827451  ]],\n",
       " \n",
       "         [[0.69463295, 0.4514957 , 0.36914277],\n",
       "          [0.69944966, 0.45239085, 0.38180262],\n",
       "          [0.69553596, 0.44063395, 0.36220258],\n",
       "          ...,\n",
       "          [0.78431374, 0.8117647 , 0.8352941 ],\n",
       "          [0.7825203 , 0.8099713 , 0.8335007 ],\n",
       "          [0.7764706 , 0.8039216 , 0.827451  ]]],\n",
       " \n",
       " \n",
       "        [[[0.72156864, 0.63529414, 0.5921569 ],\n",
       "          [0.7151961 , 0.62892157, 0.5857843 ],\n",
       "          [0.7083333 , 0.627451  , 0.5897059 ],\n",
       "          ...,\n",
       "          [0.8522059 , 0.6639706 , 0.5764706 ],\n",
       "          [0.85637254, 0.66813725, 0.5779412 ],\n",
       "          [0.8627451 , 0.6745098 , 0.58431375]],\n",
       " \n",
       "         [[0.72478557, 0.638511  , 0.59537375],\n",
       "          [0.7227692 , 0.6364947 , 0.59335744],\n",
       "          [0.7198606 , 0.63897824, 0.6012331 ],\n",
       "          ...,\n",
       "          [0.8518708 , 0.6636355 , 0.5761355 ],\n",
       "          [0.85530025, 0.66706496, 0.5768689 ],\n",
       "          [0.8616728 , 0.6734375 , 0.5832414 ]],\n",
       " \n",
       "         [[0.7308517 , 0.6445772 , 0.60143995],\n",
       "          [0.73705   , 0.6507755 , 0.60763824],\n",
       "          [0.7415977 , 0.6607154 , 0.6229703 ],\n",
       "          ...,\n",
       "          [0.8512389 , 0.6630036 , 0.5755036 ],\n",
       "          [0.85327816, 0.6650429 , 0.5748468 ],\n",
       "          [0.85965073, 0.67141545, 0.5812194 ]],\n",
       " \n",
       "         ...,\n",
       " \n",
       "         [[0.9756434 , 0.83054537, 0.75995713],\n",
       "          [0.9731292 , 0.8280312 , 0.75744295],\n",
       "          [0.9698529 , 0.8247549 , 0.75416666],\n",
       "          ...,\n",
       "          [0.9290135 , 0.72509193, 0.6388174 ],\n",
       "          [0.9261623 , 0.72224075, 0.63596624],\n",
       "          [0.9254902 , 0.72156864, 0.63529414]],\n",
       " \n",
       "         [[0.9736213 , 0.8285233 , 0.75793505],\n",
       "          [0.97275007, 0.82765204, 0.7570638 ],\n",
       "          [0.9698529 , 0.8247549 , 0.75416666],\n",
       "          ...,\n",
       "          [0.9310355 , 0.72711396, 0.64083946],\n",
       "          [0.92780524, 0.7238836 , 0.6376091 ],\n",
       "          [0.9254902 , 0.72156864, 0.63529414]],\n",
       " \n",
       "         [[0.972549  , 0.827451  , 0.75686276],\n",
       "          [0.972549  , 0.827451  , 0.75686276],\n",
       "          [0.9698529 , 0.8247549 , 0.75416666],\n",
       "          ...,\n",
       "          [0.93210787, 0.72818625, 0.64191175],\n",
       "          [0.9286765 , 0.7247549 , 0.63848037],\n",
       "          [0.9254902 , 0.72156864, 0.63529414]]],\n",
       " \n",
       " \n",
       "        ...,\n",
       " \n",
       " \n",
       "        [[[0.9327608 , 0.81119215, 0.7327608 ],\n",
       "          [0.92646295, 0.8048943 , 0.7264629 ],\n",
       "          [0.918863  , 0.7972943 , 0.71886295],\n",
       "          ...,\n",
       "          [0.97223496, 0.8666667 , 0.7927849 ],\n",
       "          [0.9754672 , 0.8735064 , 0.80683976],\n",
       "          [0.98105085, 0.8839844 , 0.81894916]],\n",
       " \n",
       "         [[0.92981964, 0.808251  , 0.7298196 ],\n",
       "          [0.9257334 , 0.80416477, 0.7257334 ],\n",
       "          [0.92156863, 0.8       , 0.72156864],\n",
       "          ...,\n",
       "          [0.9724705 , 0.8669022 , 0.7930204 ],\n",
       "          [0.97473764, 0.87277687, 0.8061102 ],\n",
       "          [0.97810966, 0.8810432 , 0.816008  ]],\n",
       " \n",
       "         [[0.92058825, 0.79901963, 0.7205882 ],\n",
       "          [0.92132545, 0.7997568 , 0.72132546],\n",
       "          [0.9224705 , 0.8009019 , 0.7224705 ],\n",
       "          ...,\n",
       "          [0.9762351 , 0.87066674, 0.796785  ],\n",
       "          [0.97720015, 0.8752394 , 0.8085727 ],\n",
       "          [0.9761489 , 0.87908244, 0.81404716]],\n",
       " \n",
       "         ...,\n",
       " \n",
       "         [[0.9585804 , 0.825247  , 0.7272078 ],\n",
       "          [0.9607843 , 0.827451  , 0.7294118 ],\n",
       "          [0.9646274 , 0.8273725 , 0.741098  ],\n",
       "          ...,\n",
       "          [0.97156864, 0.872549  , 0.8127451 ],\n",
       "          [0.9735371 , 0.87451744, 0.81471354],\n",
       "          [0.9705882 , 0.8715686 , 0.8117647 ]],\n",
       " \n",
       "         [[0.9607843 , 0.827451  , 0.7294118 ],\n",
       "          [0.9615215 , 0.8281882 , 0.730149  ],\n",
       "          [0.9647059 , 0.827451  , 0.7411765 ],\n",
       "          ...,\n",
       "          [0.972549  , 0.87058824, 0.8117647 ],\n",
       "          [0.972549  , 0.87058824, 0.8117647 ],\n",
       "          [0.972549  , 0.87058824, 0.8117647 ]],\n",
       " \n",
       "         [[0.9607843 , 0.827451  , 0.7294118 ],\n",
       "          [0.96373314, 0.8303998 , 0.7323606 ],\n",
       "          [0.9674115 , 0.8301566 , 0.7438821 ],\n",
       "          ...,\n",
       "          [0.972549  , 0.87058824, 0.8117647 ],\n",
       "          [0.972549  , 0.87058824, 0.8117647 ],\n",
       "          [0.972549  , 0.87058824, 0.8117647 ]]],\n",
       " \n",
       " \n",
       "        [[[0.32806373, 0.26139706, 0.22218138],\n",
       "          [0.32683823, 0.26017156, 0.22095588],\n",
       "          [0.34229472, 0.27562806, 0.23641238],\n",
       "          ...,\n",
       "          [0.54450685, 0.46271303, 0.38540757],\n",
       "          [0.4075698 , 0.3305937 , 0.263927  ],\n",
       "          [0.44481465, 0.36246172, 0.2879519 ]],\n",
       " \n",
       "         [[0.32234222, 0.25567555, 0.21645987],\n",
       "          [0.3294958 , 0.26282912, 0.22361343],\n",
       "          [0.34217218, 0.2755055 , 0.23628983],\n",
       "          ...,\n",
       "          [0.5281578 , 0.446364  , 0.36905852],\n",
       "          [0.42219502, 0.34521893, 0.27855223],\n",
       "          [0.43320072, 0.35084778, 0.27633798]],\n",
       " \n",
       "         [[0.31290594, 0.25469515, 0.21266085],\n",
       "          [0.32646292, 0.26825213, 0.22621784],\n",
       "          [0.3327359 , 0.27452514, 0.23249081],\n",
       "          ...,\n",
       "          [0.49261594, 0.41082212, 0.3335167 ],\n",
       "          [0.44828624, 0.3713101 , 0.30464345],\n",
       "          [0.41911548, 0.33676255, 0.26225275]],\n",
       " \n",
       "         ...,\n",
       " \n",
       "         [[0.15473345, 0.15204504, 0.12156863],\n",
       "          [0.16470589, 0.15294118, 0.1254902 ],\n",
       "          [0.17496577, 0.15535793, 0.13182852],\n",
       "          ...,\n",
       "          [0.8313879 , 0.715985  , 0.6586325 ],\n",
       "          [0.83150274, 0.7190104 , 0.6665748 ],\n",
       "          [0.83137256, 0.72156864, 0.6745098 ]],\n",
       " \n",
       "         [[0.15473345, 0.15204504, 0.12156863],\n",
       "          [0.16470589, 0.15294118, 0.1254902 ],\n",
       "          [0.17200737, 0.15239953, 0.12887011],\n",
       "          ...,\n",
       "          [0.8247702 , 0.70936733, 0.6471814 ],\n",
       "          [0.8260797 , 0.7135874 , 0.6559429 ],\n",
       "          [0.8284417 , 0.71863776, 0.67157894]],\n",
       " \n",
       "         [[0.15473345, 0.15204504, 0.12156863],\n",
       "          [0.16470589, 0.15294118, 0.1254902 ],\n",
       "          [0.16862746, 0.14901961, 0.1254902 ],\n",
       "          ...,\n",
       "          [0.8220741 , 0.7072304 , 0.64336705],\n",
       "          [0.82423145, 0.7117391 , 0.6539266 ],\n",
       "          [0.827451  , 0.7176471 , 0.67058825]]],\n",
       " \n",
       " \n",
       "        [[[0.30980393, 0.23529412, 0.1764706 ],\n",
       "          [0.2985907 , 0.22127758, 0.16338848],\n",
       "          [0.27542892, 0.19232537, 0.13636643],\n",
       "          ...,\n",
       "          [0.9910999 , 0.7205116 , 0.59109986],\n",
       "          [0.9891697 , 0.7185815 , 0.58916974],\n",
       "          [0.9882353 , 0.7176471 , 0.5882353 ]],\n",
       " \n",
       "         [[0.30894607, 0.23443627, 0.17561275],\n",
       "          [0.29803947, 0.2207519 , 0.16278614],\n",
       "          [0.27551103, 0.1924858 , 0.13629186],\n",
       "          ...,\n",
       "          [0.99099267, 0.72024775, 0.5909143 ],\n",
       "          [0.9890625 , 0.7184232 , 0.58903694],\n",
       "          [0.98812807, 0.71753985, 0.5881281 ]],\n",
       " \n",
       "         [[0.29791668, 0.22340687, 0.16458334],\n",
       "          [0.2909522 , 0.21399315, 0.15504186],\n",
       "          [0.27656657, 0.19454843, 0.13533325],\n",
       "          ...,\n",
       "          [0.98961395, 0.71685493, 0.5885286 ],\n",
       "          [0.98768383, 0.71638745, 0.58732975],\n",
       "          [0.9867494 , 0.71616113, 0.5867494 ]],\n",
       " \n",
       "         ...,\n",
       " \n",
       "         [[0.85490197, 0.5647059 , 0.4117647 ],\n",
       "          [0.85361344, 0.5634174 , 0.4104762 ],\n",
       "          [0.85095197, 0.5607559 , 0.4078147 ],\n",
       "          ...,\n",
       "          [0.97964156, 0.63737965, 0.47200844],\n",
       "          [0.98543197, 0.64390147, 0.47633618],\n",
       "          [0.9882353 , 0.64705884, 0.47843137]],\n",
       " \n",
       "         [[0.85490197, 0.5647059 , 0.4117647 ],\n",
       "          [0.853942  , 0.5637459 , 0.41080472],\n",
       "          [0.85195905, 0.561763  , 0.4088218 ],\n",
       "          ...,\n",
       "          [0.97964156, 0.6383867 , 0.46999428],\n",
       "          [0.98543197, 0.64422995, 0.47567916],\n",
       "          [0.9882353 , 0.64705884, 0.47843137]],\n",
       " \n",
       "         [[0.85490197, 0.5647059 , 0.4117647 ],\n",
       "          [0.85396755, 0.5637714 , 0.41083026],\n",
       "          [0.8520374 , 0.5618413 , 0.4089001 ],\n",
       "          ...,\n",
       "          [0.97964156, 0.63846505, 0.46983764],\n",
       "          [0.98543197, 0.6442555 , 0.47562808],\n",
       "          [0.9882353 , 0.64705884, 0.47843137]]]], dtype=float32),\n",
       " array([0, 1, 1, 0, 1, 1, 1, 0, 1, 1, 0, 0, 0, 0, 0, 1, 1, 0, 1, 1, 0, 0,\n",
       "        0, 0, 0, 0, 1, 1, 1, 0, 1, 1], dtype=int32))"
      ]
     },
     "execution_count": 3,
     "metadata": {},
     "output_type": "execute_result"
    }
   ],
   "source": [
    "data = tf.keras.utils.image_dataset_from_directory('training_data')\n",
    "data_iterator = data.as_numpy_iterator()\n",
    "batch = data_iterator.next()\n",
    "data = data.map(lambda x,y: (x/255, y))\n",
    "data.as_numpy_iterator().next()"
   ]
  },
  {
   "cell_type": "code",
   "execution_count": 4,
   "metadata": {},
   "outputs": [
    {
     "name": "stdout",
     "output_type": "stream",
     "text": [
      "1\n"
     ]
    }
   ],
   "source": [
    "train_size = int(len(data)*.6)\n",
    "val_size = int(len(data)*.2)\n",
    "test_size = int(len(data)*.2)\n",
    "print(test_size)\n",
    "train = data.take(train_size)\n",
    "val = data.skip(train_size).take(val_size)\n",
    "test = data.skip(train_size+val_size).take(test_size)\n",
    "if test_size == 0:\n",
    "    raise ValueError(\"Test size is null, you should have at least 140 data images to fix this issue\")"
   ]
  },
  {
   "cell_type": "markdown",
   "metadata": {},
   "source": [
    "# Build model"
   ]
  },
  {
   "cell_type": "code",
   "execution_count": 5,
   "metadata": {},
   "outputs": [
    {
     "name": "stdout",
     "output_type": "stream",
     "text": [
      "Model: \"sequential\"\n",
      "_________________________________________________________________\n",
      " Layer (type)                Output Shape              Param #   \n",
      "=================================================================\n",
      " conv2d (Conv2D)             (None, 254, 254, 32)      896       \n",
      "                                                                 \n",
      " max_pooling2d (MaxPooling2D  (None, 127, 127, 32)     0         \n",
      " )                                                               \n",
      "                                                                 \n",
      " conv2d_1 (Conv2D)           (None, 125, 125, 64)      18496     \n",
      "                                                                 \n",
      " max_pooling2d_1 (MaxPooling  (None, 62, 62, 64)       0         \n",
      " 2D)                                                             \n",
      "                                                                 \n",
      " conv2d_2 (Conv2D)           (None, 60, 60, 32)        18464     \n",
      "                                                                 \n",
      " max_pooling2d_2 (MaxPooling  (None, 30, 30, 32)       0         \n",
      " 2D)                                                             \n",
      "                                                                 \n",
      " flatten (Flatten)           (None, 28800)             0         \n",
      "                                                                 \n",
      " dense (Dense)               (None, 256)               7373056   \n",
      "                                                                 \n",
      " dense_1 (Dense)             (None, 1)                 257       \n",
      "                                                                 \n",
      "=================================================================\n",
      "Total params: 7,411,169\n",
      "Trainable params: 7,411,169\n",
      "Non-trainable params: 0\n",
      "_________________________________________________________________\n"
     ]
    }
   ],
   "source": [
    "model = Sequential()\n",
    "model.add(Conv2D(32, (3,3), 1, activation='relu', input_shape=(256,256,3)))\n",
    "model.add(MaxPooling2D())\n",
    "model.add(Conv2D(64, (3,3), 1, activation='relu'))\n",
    "model.add(MaxPooling2D())\n",
    "model.add(Conv2D(32, (3,3), 1, activation='relu'))\n",
    "model.add(MaxPooling2D())\n",
    "model.add(Flatten())\n",
    "model.add(Dense(256, activation='relu'))\n",
    "model.add(Dense(1, activation='sigmoid'))\n",
    "model.compile('adam', loss=tf.losses.BinaryCrossentropy(), metrics=['accuracy'])\n",
    "model.summary()"
   ]
  },
  {
   "cell_type": "markdown",
   "metadata": {},
   "source": [
    "# Training model"
   ]
  },
  {
   "cell_type": "code",
   "execution_count": 6,
   "metadata": {},
   "outputs": [
    {
     "name": "stdout",
     "output_type": "stream",
     "text": [
      "Epoch 1/20\n"
     ]
    },
    {
     "name": "stderr",
     "output_type": "stream",
     "text": [
      "2022-11-19 14:44:49.723173: W tensorflow/core/framework/cpu_allocator_impl.cc:82] Allocation of 264257536 exceeds 10% of free system memory.\n",
      "2022-11-19 14:44:51.636012: W tensorflow/core/framework/cpu_allocator_impl.cc:82] Allocation of 264257536 exceeds 10% of free system memory.\n"
     ]
    },
    {
     "name": "stdout",
     "output_type": "stream",
     "text": [
      "1/3 [=========>....................] - ETA: 8s - loss: 0.7074 - accuracy: 0.5312"
     ]
    },
    {
     "name": "stderr",
     "output_type": "stream",
     "text": [
      "2022-11-19 14:44:52.280021: W tensorflow/core/framework/cpu_allocator_impl.cc:82] Allocation of 264257536 exceeds 10% of free system memory.\n",
      "2022-11-19 14:44:53.895405: W tensorflow/core/framework/cpu_allocator_impl.cc:82] Allocation of 264257536 exceeds 10% of free system memory.\n"
     ]
    },
    {
     "name": "stdout",
     "output_type": "stream",
     "text": [
      "2/3 [===================>..........] - ETA: 2s - loss: 0.9748 - accuracy: 0.5156"
     ]
    },
    {
     "name": "stderr",
     "output_type": "stream",
     "text": [
      "2022-11-19 14:44:54.468531: W tensorflow/core/framework/cpu_allocator_impl.cc:82] Allocation of 264257536 exceeds 10% of free system memory.\n"
     ]
    },
    {
     "name": "stdout",
     "output_type": "stream",
     "text": [
      "3/3 [==============================] - 10s 3s/step - loss: 1.0794 - accuracy: 0.5104 - val_loss: 0.8764 - val_accuracy: 0.3750\n",
      "Epoch 2/20\n",
      "3/3 [==============================] - 10s 3s/step - loss: 0.6780 - accuracy: 0.7917 - val_loss: 0.8071 - val_accuracy: 0.3750\n",
      "Epoch 3/20\n",
      "3/3 [==============================] - 6s 2s/step - loss: 0.6829 - accuracy: 0.5417 - val_loss: 0.6221 - val_accuracy: 0.4688\n",
      "Epoch 4/20\n",
      "3/3 [==============================] - 6s 2s/step - loss: 0.5444 - accuracy: 0.6562 - val_loss: 0.4362 - val_accuracy: 0.9375\n",
      "Epoch 5/20\n",
      "3/3 [==============================] - 6s 2s/step - loss: 0.3878 - accuracy: 0.9271 - val_loss: 0.4713 - val_accuracy: 0.7500\n",
      "Epoch 6/20\n",
      "3/3 [==============================] - 6s 2s/step - loss: 0.2776 - accuracy: 0.9271 - val_loss: 0.1310 - val_accuracy: 1.0000\n",
      "Epoch 7/20\n",
      "3/3 [==============================] - 6s 2s/step - loss: 0.2048 - accuracy: 0.9375 - val_loss: 0.2380 - val_accuracy: 0.8438\n",
      "Epoch 8/20\n",
      "3/3 [==============================] - 6s 2s/step - loss: 0.1623 - accuracy: 0.9271 - val_loss: 0.0898 - val_accuracy: 0.9688\n",
      "Epoch 9/20\n",
      "3/3 [==============================] - 6s 2s/step - loss: 0.0920 - accuracy: 0.9688 - val_loss: 0.0598 - val_accuracy: 1.0000\n",
      "Epoch 10/20\n",
      "3/3 [==============================] - 8s 3s/step - loss: 0.0777 - accuracy: 0.9688 - val_loss: 0.0389 - val_accuracy: 0.9688\n",
      "Epoch 11/20\n",
      "3/3 [==============================] - 8s 3s/step - loss: 0.0411 - accuracy: 0.9896 - val_loss: 0.0355 - val_accuracy: 0.9688\n",
      "Epoch 12/20\n",
      "3/3 [==============================] - 7s 2s/step - loss: 0.0245 - accuracy: 0.9896 - val_loss: 0.0184 - val_accuracy: 1.0000\n",
      "Epoch 13/20\n",
      "3/3 [==============================] - 7s 2s/step - loss: 0.2420 - accuracy: 0.9271 - val_loss: 0.0266 - val_accuracy: 1.0000\n",
      "Epoch 14/20\n",
      "3/3 [==============================] - 6s 2s/step - loss: 0.2121 - accuracy: 0.9062 - val_loss: 0.1450 - val_accuracy: 0.9062\n",
      "Epoch 15/20\n",
      "3/3 [==============================] - 7s 2s/step - loss: 0.1212 - accuracy: 0.9479 - val_loss: 0.3906 - val_accuracy: 0.8125\n",
      "Epoch 16/20\n",
      "3/3 [==============================] - 6s 2s/step - loss: 0.1988 - accuracy: 0.9167 - val_loss: 0.0602 - val_accuracy: 0.9688\n",
      "Epoch 17/20\n",
      "3/3 [==============================] - 7s 2s/step - loss: 0.0441 - accuracy: 1.0000 - val_loss: 0.0314 - val_accuracy: 1.0000\n",
      "Epoch 18/20\n",
      "3/3 [==============================] - 7s 2s/step - loss: 0.0502 - accuracy: 0.9792 - val_loss: 0.0965 - val_accuracy: 0.9688\n",
      "Epoch 19/20\n",
      "3/3 [==============================] - 7s 2s/step - loss: 0.0693 - accuracy: 0.9688 - val_loss: 0.2062 - val_accuracy: 0.9062\n",
      "Epoch 20/20\n",
      "3/3 [==============================] - 7s 2s/step - loss: 0.1105 - accuracy: 0.9583 - val_loss: 0.0111 - val_accuracy: 1.0000\n"
     ]
    }
   ],
   "source": [
    "tensorboard_callback = tf.keras.callbacks.TensorBoard(log_dir=\"logs\")\n",
    "hist = model.fit(train, epochs=20, validation_data=val, callbacks=[tensorboard_callback])"
   ]
  },
  {
   "cell_type": "markdown",
   "metadata": {},
   "source": [
    "# Test resoults"
   ]
  },
  {
   "cell_type": "code",
   "execution_count": 39,
   "metadata": {},
   "outputs": [
    {
     "data": {
      "image/png": "[encoded data removed]",
      "text/plain": [
       "<Figure size 640x480 with 1 Axes>"
      ]
     },
     "metadata": {},
     "output_type": "display_data"
    }
   ],
   "source": [
    "img = cv2.imread('training_data/close_eye/closed_eye (89).jpg')\n",
    "resize = tf.image.resize(img, (256,256))\n",
    "plt.imshow(img)\n",
    "plt.show()"
   ]
  },
  {
   "cell_type": "code",
   "execution_count": 40,
   "metadata": {},
   "outputs": [
    {
     "name": "stdout",
     "output_type": "stream",
     "text": [
      "1/1 [==============================] - 0s 98ms/step\n"
     ]
    },
    {
     "data": {
      "text/plain": [
       "array([[0.00505351]], dtype=float32)"
      ]
     },
     "execution_count": 40,
     "metadata": {},
     "output_type": "execute_result"
    }
   ],
   "source": [
    "my_pred = model.predict(np.expand_dims(resize/255, 0))\n",
    "my_pred"
   ]
  },
  {
   "cell_type": "code",
   "execution_count": 41,
   "metadata": {},
   "outputs": [
    {
     "name": "stdout",
     "output_type": "stream",
     "text": [
      "Predicted class is No eye\n"
     ]
    }
   ],
   "source": [
    "if my_pred > 0.3: \n",
    "    print(f'Predicted class is eye')  \n",
    "else:\n",
    "    print(f'Predicted class is No eye')"
   ]
  },
  {
   "cell_type": "markdown",
   "metadata": {},
   "source": [
    "# Save model"
   ]
  },
  {
   "cell_type": "code",
   "execution_count": 22,
   "metadata": {},
   "outputs": [],
   "source": [
    "model.save(os.path.join('models','my_new_model.h5'))"
   ]
  }
 ],
 "metadata": {
  "kernelspec": {
   "display_name": "Python 3.9.7 ('safetysystem')",
   "language": "python",
   "name": "python3"
  },
  "language_info": {
   "codemirror_mode": {
    "name": "ipython",
    "version": 3
   },
   "file_extension": ".py",
   "mimetype": "text/x-python",
   "name": "python",
   "nbconvert_exporter": "python",
   "pygments_lexer": "ipython3",
   "version": "3.9.7"
  },
  "orig_nbformat": 4,
  "vscode": {
   "interpreter": {
    "hash": "7e74043beae4354ab6b5b7a5c4030fd52fcc6d756d2037cef8997c05bd8c2f10"
   }
  }
 },
 "nbformat": 4,
 "nbformat_minor": 2
}
